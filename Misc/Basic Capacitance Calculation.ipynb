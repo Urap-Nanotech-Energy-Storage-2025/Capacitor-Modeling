{
 "cells": [
  {
   "cell_type": "code",
   "execution_count": 107,
   "metadata": {},
   "outputs": [],
   "source": [
    "import numpy as np\n",
    "import scipy.integrate as spi\n",
    "import matplotlib.pyplot as plt\n",
    "import pandas as pd\n",
    "import os\n",
    "from scipy.optimize import curve_fit"
   ]
  },
  {
   "cell_type": "markdown",
   "metadata": {},
   "source": [
    "# Theoretical Capacitance Calulation for CNT Row Structure"
   ]
  },
  {
   "cell_type": "code",
   "execution_count": null,
   "metadata": {},
   "outputs": [],
   "source": [
    "# Integral\n",
    "def integrand(x, z, d, alpha, beta):\n",
    "    return np.exp(-alpha * x - beta * z) / (d + 2 * x)\n",
    "\n",
    "# Define a function to evaluate the double integral\n",
    "def evaluate_double_integral(h, w, d, alpha, beta):\n",
    "    result, _ = spi.dblquad(\n",
    "        integrand,         # Function to integrate\n",
    "        0, w/2,           # Limits for z\n",
    "        lambda z: 0, lambda z: h,  # Limits for x (independent of z)\n",
    "        args=(d, alpha, beta)  # Additional arguments for the function\n",
    "    )\n",
    "    return result\n",
    "\n",
    "def calculate_capacitance(epsilon_r = 1, h = 50e-9, w = 500e-9, d = 500e-9, N_rows = 10e4, p = 1, alpha = 0, beta = 0):\n",
    "    '''Calculates the capacitance of the chip.\n",
    "    \n",
    "    Parameters:\n",
    "    h (float): Height of the CNT Structure\n",
    "    w (float): Width of CNT Structure\n",
    "    d (float): Seperation between structures\n",
    "    alpha (float): Charge density decay constant along x\n",
    "    beta (float): Charge density decay constant along z\n",
    "    '''\n",
    "    capacitance = epsilon_r * epsilon_0 * N_rows * p * evaluate_double_integral(h, w, d, alpha, beta)\n",
    "    return capacitance\n",
    "\n",
    "def decay_constant(distance, remaining_fraction):\n",
    "    \"\"\"\n",
    "    Calculate the decay constant based on desired distance and decay fraction.\n",
    "\n",
    "    Parameters:\n",
    "    - distance (float): Distance at which the decay occurs.\n",
    "    - percentage (float): Remaining fraction (e.g., 0.5 or 1).\n",
    "\n",
    "    Returns:\n",
    "    - float: Decay constant.\n",
    "    \"\"\"\n",
    "    #if remaining_fraction <= 0 or remaining_fraction >= 1:\n",
    "        #raise ValueError(\"fraction must be between 0 and 1 (exclusive).\")\n",
    "    \n",
    "    return -np.log(remaining_fraction) / distance"
   ]
  },
  {
   "cell_type": "code",
   "execution_count": null,
   "metadata": {},
   "outputs": [
    {
     "name": "stdout",
     "output_type": "stream",
     "text": [
      "The predicted capacitance is 1.0044065172463326\n"
     ]
    }
   ],
   "source": [
    "# Calculate with the given parameters\n",
    "\n",
    "# Set values for parameters\n",
    "length = 1e-2\n",
    "height = 50-9\n",
    "width = 500-9\n",
    "seperation = 500e-9\n",
    "epsilon_0 = 8.85418782e-12\n",
    "N_rows = length / (seperation+width)\n",
    "\n",
    "# Sheilding factor x\n",
    "x_decay = decay_constant(width, 1)\n",
    "# Sheilding factor z\n",
    "z_decay = decay_constant(height, 1)\n",
    "\n",
    "# Dielectric\n",
    "epsilon_r = 20000\n",
    "\n",
    "# CNT parameters\n",
    "r_CNTs = 5e-9\n",
    "s_CNTs = 5e-9\n",
    "packing_factor = 0.6 # 0.9 is hexagonal packing, 0.78 is square packing, 0.6 is random packing\n",
    "pack_area = np.pi*(r_CNTs+s_CNTs)**2\n",
    "N_CNTs = length*width*packing_factor / pack_area\n",
    "M_walls = 1\n",
    "\n",
    "# CNT SA density\n",
    "p = M_walls * N_CNTs * 2*np.pi*r_CNTs / (length*width/2)\n",
    "\n",
    "# Compute the integral\n",
    "capacitance = calculate_capacitance(epsilon_r,height,width,seperation,N_rows,p,x_decay,z_decay)\n",
    "print(\"The predicted capacitance is\", capacitance)"
   ]
  },
  {
   "cell_type": "code",
   "execution_count": 110,
   "metadata": {},
   "outputs": [
    {
     "data": {
      "text/plain": [
       "'There are many multiplicitive, not yet determined factors that have high impact: \\nexponential decay, dielectric constant, CNT Packing factor, and CNT wall number.'"
      ]
     },
     "execution_count": 110,
     "metadata": {},
     "output_type": "execute_result"
    }
   ],
   "source": [
    "'''There are many multiplicitive, not yet determined factors that have high impact: \n",
    "exponential decay, dielectric constant, CNT Packing factor, and CNT wall number.'''"
   ]
  }
 ],
 "metadata": {
  "kernelspec": {
   "display_name": "base",
   "language": "python",
   "name": "python3"
  },
  "language_info": {
   "codemirror_mode": {
    "name": "ipython",
    "version": 3
   },
   "file_extension": ".py",
   "mimetype": "text/x-python",
   "name": "python",
   "nbconvert_exporter": "python",
   "pygments_lexer": "ipython3",
   "version": "3.12.7"
  }
 },
 "nbformat": 4,
 "nbformat_minor": 2
}
